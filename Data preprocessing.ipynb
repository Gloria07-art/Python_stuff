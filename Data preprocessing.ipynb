{
 "cells": [
  {
   "cell_type": "code",
   "execution_count": 17,
   "id": "6fdeb303",
   "metadata": {},
   "outputs": [],
   "source": [
    "import numpy as np\n",
    "import pandas as pd\n",
    "import matplotlib\n",
    "import matplotlib.pyplot as plt"
   ]
  },
  {
   "cell_type": "code",
   "execution_count": 18,
   "id": "be2b1fb0",
   "metadata": {},
   "outputs": [],
   "source": [
    "df=pd.read_csv(\"Dataset.csv\")"
   ]
  },
  {
   "cell_type": "code",
   "execution_count": 3,
   "id": "da98fbb7",
   "metadata": {},
   "outputs": [
    {
     "data": {
      "text/html": [
       "<div>\n",
       "<style scoped>\n",
       "    .dataframe tbody tr th:only-of-type {\n",
       "        vertical-align: middle;\n",
       "    }\n",
       "\n",
       "    .dataframe tbody tr th {\n",
       "        vertical-align: top;\n",
       "    }\n",
       "\n",
       "    .dataframe thead th {\n",
       "        text-align: right;\n",
       "    }\n",
       "</style>\n",
       "<table border=\"1\" class=\"dataframe\">\n",
       "  <thead>\n",
       "    <tr style=\"text-align: right;\">\n",
       "      <th></th>\n",
       "      <th>Country</th>\n",
       "      <th>Age</th>\n",
       "      <th>Salary</th>\n",
       "      <th>Purchased</th>\n",
       "    </tr>\n",
       "  </thead>\n",
       "  <tbody>\n",
       "    <tr>\n",
       "      <th>0</th>\n",
       "      <td>India</td>\n",
       "      <td>38</td>\n",
       "      <td>68000</td>\n",
       "      <td>No</td>\n",
       "    </tr>\n",
       "    <tr>\n",
       "      <th>1</th>\n",
       "      <td>France</td>\n",
       "      <td>43</td>\n",
       "      <td>45000</td>\n",
       "      <td>Yes</td>\n",
       "    </tr>\n",
       "    <tr>\n",
       "      <th>2</th>\n",
       "      <td>Germany</td>\n",
       "      <td>30</td>\n",
       "      <td>54000</td>\n",
       "      <td>No</td>\n",
       "    </tr>\n",
       "    <tr>\n",
       "      <th>3</th>\n",
       "      <td>France</td>\n",
       "      <td>48</td>\n",
       "      <td>65000</td>\n",
       "      <td>No</td>\n",
       "    </tr>\n",
       "    <tr>\n",
       "      <th>4</th>\n",
       "      <td>Germany</td>\n",
       "      <td>40</td>\n",
       "      <td>nan</td>\n",
       "      <td>Yes</td>\n",
       "    </tr>\n",
       "    <tr>\n",
       "      <th>5</th>\n",
       "      <td>France</td>\n",
       "      <td>35</td>\n",
       "      <td>58000</td>\n",
       "      <td>Yes</td>\n",
       "    </tr>\n",
       "    <tr>\n",
       "      <th>6</th>\n",
       "      <td>Germany</td>\n",
       "      <td>nan</td>\n",
       "      <td>53000</td>\n",
       "      <td>No</td>\n",
       "    </tr>\n",
       "    <tr>\n",
       "      <th>7</th>\n",
       "      <td>France</td>\n",
       "      <td>49</td>\n",
       "      <td>79000</td>\n",
       "      <td>Yes</td>\n",
       "    </tr>\n",
       "    <tr>\n",
       "      <th>8</th>\n",
       "      <td>India</td>\n",
       "      <td>50</td>\n",
       "      <td>88000</td>\n",
       "      <td>No</td>\n",
       "    </tr>\n",
       "    <tr>\n",
       "      <th>9</th>\n",
       "      <td>France</td>\n",
       "      <td>37</td>\n",
       "      <td>77000</td>\n",
       "      <td>Yes</td>\n",
       "    </tr>\n",
       "  </tbody>\n",
       "</table>\n",
       "</div>"
      ],
      "text/plain": [
       "   Country   Age  Salary  Purchased\n",
       "0    India    38   68000         No\n",
       "1   France    43   45000        Yes\n",
       "2  Germany    30   54000         No\n",
       "3   France    48   65000         No\n",
       "4  Germany    40     nan        Yes\n",
       "5   France    35   58000        Yes\n",
       "6  Germany   nan   53000         No\n",
       "7   France    49   79000        Yes\n",
       "8    India    50   88000         No\n",
       "9   France    37   77000        Yes"
      ]
     },
     "execution_count": 3,
     "metadata": {},
     "output_type": "execute_result"
    }
   ],
   "source": [
    "df"
   ]
  },
  {
   "cell_type": "code",
   "execution_count": 4,
   "id": "73a59d44",
   "metadata": {},
   "outputs": [],
   "source": [
    "x= df.iloc[:,:-1].values"
   ]
  },
  {
   "cell_type": "code",
   "execution_count": 5,
   "id": "52441bc0",
   "metadata": {},
   "outputs": [
    {
     "name": "stdout",
     "output_type": "stream",
     "text": [
      "[['India' ' 38' ' 68000']\n",
      " ['France' ' 43' ' 45000']\n",
      " ['Germany' ' 30' ' 54000']\n",
      " ['France' ' 48' ' 65000']\n",
      " ['Germany' ' 40' ' nan']\n",
      " ['France' ' 35' ' 58000']\n",
      " ['Germany' ' nan' ' 53000']\n",
      " ['France' ' 49' ' 79000']\n",
      " ['India' ' 50' ' 88000']\n",
      " ['France' ' 37' ' 77000']]\n"
     ]
    }
   ],
   "source": [
    "print(x)"
   ]
  },
  {
   "cell_type": "code",
   "execution_count": 6,
   "id": "b6d15a55",
   "metadata": {},
   "outputs": [],
   "source": [
    "y= df.iloc[:,3].values"
   ]
  },
  {
   "cell_type": "code",
   "execution_count": 7,
   "id": "9f72b91f",
   "metadata": {},
   "outputs": [
    {
     "name": "stdout",
     "output_type": "stream",
     "text": [
      "[' No' ' Yes' ' No' ' No' ' Yes' ' Yes' ' No' ' Yes' ' No' ' Yes']\n"
     ]
    }
   ],
   "source": [
    "print(y)"
   ]
  },
  {
   "cell_type": "code",
   "execution_count": 9,
   "id": "9ecaa8db",
   "metadata": {},
   "outputs": [],
   "source": [
    "from sklearn.impute import SimpleImputer\n",
    "imputer = SimpleImputer(missing_values = np.nan , strategy ='mean')"
   ]
  },
  {
   "cell_type": "code",
   "execution_count": 10,
   "id": "632eb6ed",
   "metadata": {},
   "outputs": [],
   "source": [
    "imputer = imputer.fit(x[:, 1:3])\n",
    "\n",
    "x[:, 1:3] = imputer.transform(x[:, 1:3])"
   ]
  },
  {
   "cell_type": "code",
   "execution_count": 11,
   "id": "4ecb4f98",
   "metadata": {},
   "outputs": [
    {
     "name": "stdout",
     "output_type": "stream",
     "text": [
      "[['India' 38.0 68000.0]\n",
      " ['France' 43.0 45000.0]\n",
      " ['Germany' 30.0 54000.0]\n",
      " ['France' 48.0 65000.0]\n",
      " ['Germany' 40.0 65222.22222222222]\n",
      " ['France' 35.0 58000.0]\n",
      " ['Germany' 41.111111111111114 53000.0]\n",
      " ['France' 49.0 79000.0]\n",
      " ['India' 50.0 88000.0]\n",
      " ['France' 37.0 77000.0]]\n"
     ]
    }
   ],
   "source": [
    "print(x)"
   ]
  },
  {
   "cell_type": "code",
   "execution_count": 21,
   "id": "279798fd",
   "metadata": {},
   "outputs": [],
   "source": [
    "from sklearn.preprocessing import LabelEncoder\n",
    "\n",
    "labelencoder = LabelEncoder()\n",
    "x[:, 0]= labelencoder.fit_transform(x[:,0])"
   ]
  },
  {
   "cell_type": "code",
   "execution_count": 22,
   "id": "e7aaf0ae",
   "metadata": {},
   "outputs": [
    {
     "name": "stdout",
     "output_type": "stream",
     "text": [
      "[[2 38.0 68000.0]\n",
      " [0 43.0 45000.0]\n",
      " [1 30.0 54000.0]\n",
      " [0 48.0 65000.0]\n",
      " [1 40.0 65222.22222222222]\n",
      " [0 35.0 58000.0]\n",
      " [1 41.111111111111114 53000.0]\n",
      " [0 49.0 79000.0]\n",
      " [2 50.0 88000.0]\n",
      " [0 37.0 77000.0]]\n"
     ]
    }
   ],
   "source": [
    "print(x)"
   ]
  },
  {
   "cell_type": "code",
   "execution_count": 24,
   "id": "c0f18238",
   "metadata": {},
   "outputs": [],
   "source": [
    "from sklearn.preprocessing import OneHotEncoder\n",
    "\n",
    "enc = OneHotEncoder(handle_unknown='ignore')\n",
    "x= enc.fit_transform(x).toarray()"
   ]
  },
  {
   "cell_type": "code",
   "execution_count": 25,
   "id": "ef809c7f",
   "metadata": {},
   "outputs": [
    {
     "name": "stdout",
     "output_type": "stream",
     "text": [
      "[[0. 0. 1. 0. 0. 0. 1. 0. 0. 0. 0. 0. 0. 0. 0. 0. 0. 0. 0. 1. 0. 0. 0.]\n",
      " [1. 0. 0. 0. 0. 0. 0. 0. 0. 1. 0. 0. 0. 1. 0. 0. 0. 0. 0. 0. 0. 0. 0.]\n",
      " [0. 1. 0. 1. 0. 0. 0. 0. 0. 0. 0. 0. 0. 0. 0. 1. 0. 0. 0. 0. 0. 0. 0.]\n",
      " [1. 0. 0. 0. 0. 0. 0. 0. 0. 0. 1. 0. 0. 0. 0. 0. 0. 1. 0. 0. 0. 0. 0.]\n",
      " [0. 1. 0. 0. 0. 0. 0. 1. 0. 0. 0. 0. 0. 0. 0. 0. 0. 0. 1. 0. 0. 0. 0.]\n",
      " [1. 0. 0. 0. 1. 0. 0. 0. 0. 0. 0. 0. 0. 0. 0. 0. 1. 0. 0. 0. 0. 0. 0.]\n",
      " [0. 1. 0. 0. 0. 0. 0. 0. 1. 0. 0. 0. 0. 0. 1. 0. 0. 0. 0. 0. 0. 0. 0.]\n",
      " [1. 0. 0. 0. 0. 0. 0. 0. 0. 0. 0. 1. 0. 0. 0. 0. 0. 0. 0. 0. 0. 1. 0.]\n",
      " [0. 0. 1. 0. 0. 0. 0. 0. 0. 0. 0. 0. 1. 0. 0. 0. 0. 0. 0. 0. 0. 0. 1.]\n",
      " [1. 0. 0. 0. 0. 1. 0. 0. 0. 0. 0. 0. 0. 0. 0. 0. 0. 0. 0. 0. 1. 0. 0.]]\n"
     ]
    }
   ],
   "source": [
    "print(x)"
   ]
  },
  {
   "cell_type": "code",
   "execution_count": 26,
   "id": "61bd78dd",
   "metadata": {},
   "outputs": [],
   "source": [
    "from sklearn.preprocessing import LabelEncoder\n",
    "\n",
    "le = LabelEncoder()\n",
    "\n",
    "y = le.fit_transform(y)"
   ]
  },
  {
   "cell_type": "code",
   "execution_count": 27,
   "id": "d75af6da",
   "metadata": {},
   "outputs": [
    {
     "name": "stdout",
     "output_type": "stream",
     "text": [
      "[0 1 0 0 1 1 0 1 0 1]\n"
     ]
    }
   ],
   "source": [
    "print(y)"
   ]
  },
  {
   "cell_type": "code",
   "execution_count": 28,
   "id": "44ec4a2d",
   "metadata": {},
   "outputs": [],
   "source": [
    "from sklearn.model_selection import train_test_split\n",
    "x_train, x_test, y_train, y_test= train_test_split(x, y, test_size=0.2, random_state=0)"
   ]
  },
  {
   "cell_type": "code",
   "execution_count": 29,
   "id": "20ab0ba9",
   "metadata": {},
   "outputs": [],
   "source": [
    "from sklearn import preprocessing\n",
    "st_x = preprocessing.StandardScaler().fit(x_train)"
   ]
  },
  {
   "cell_type": "code",
   "execution_count": 30,
   "id": "50e1a558",
   "metadata": {},
   "outputs": [
    {
     "data": {
      "text/plain": [
       "StandardScaler()"
      ]
     },
     "execution_count": 30,
     "metadata": {},
     "output_type": "execute_result"
    }
   ],
   "source": [
    "st_x"
   ]
  },
  {
   "cell_type": "code",
   "execution_count": 31,
   "id": "cffabadc",
   "metadata": {},
   "outputs": [
    {
     "data": {
      "text/plain": [
       "array([0.625, 0.25 , 0.125, 0.   , 0.125, 0.125, 0.125, 0.125, 0.125,\n",
       "       0.125, 0.125, 0.125, 0.   , 0.125, 0.125, 0.   , 0.125, 0.125,\n",
       "       0.125, 0.125, 0.125, 0.125, 0.   ])"
      ]
     },
     "execution_count": 31,
     "metadata": {},
     "output_type": "execute_result"
    }
   ],
   "source": [
    "st_x.mean_"
   ]
  },
  {
   "cell_type": "code",
   "execution_count": 33,
   "id": "fd7cf3d6",
   "metadata": {},
   "outputs": [
    {
     "data": {
      "text/plain": [
       "array([0.48412292, 0.4330127 , 0.33071891, 1.        , 0.33071891,\n",
       "       0.33071891, 0.33071891, 0.33071891, 0.33071891, 0.33071891,\n",
       "       0.33071891, 0.33071891, 1.        , 0.33071891, 0.33071891,\n",
       "       1.        , 0.33071891, 0.33071891, 0.33071891, 0.33071891,\n",
       "       0.33071891, 0.33071891, 1.        ])"
      ]
     },
     "execution_count": 33,
     "metadata": {},
     "output_type": "execute_result"
    }
   ],
   "source": [
    "st_x.scale_"
   ]
  },
  {
   "cell_type": "code",
   "execution_count": 34,
   "id": "cde9495b",
   "metadata": {},
   "outputs": [],
   "source": [
    "x_scaled = st_x.transform(x_train)"
   ]
  },
  {
   "cell_type": "code",
   "execution_count": 35,
   "id": "ffd13e3a",
   "metadata": {},
   "outputs": [
    {
     "data": {
      "text/plain": [
       "array([[-1.29099445,  1.73205081, -0.37796447,  0.        , -0.37796447,\n",
       "        -0.37796447, -0.37796447,  2.64575131, -0.37796447, -0.37796447,\n",
       "        -0.37796447, -0.37796447,  0.        , -0.37796447, -0.37796447,\n",
       "         0.        , -0.37796447, -0.37796447,  2.64575131, -0.37796447,\n",
       "        -0.37796447, -0.37796447,  0.        ],\n",
       "       [ 0.77459667, -0.57735027, -0.37796447,  0.        , -0.37796447,\n",
       "         2.64575131, -0.37796447, -0.37796447, -0.37796447, -0.37796447,\n",
       "        -0.37796447, -0.37796447,  0.        , -0.37796447, -0.37796447,\n",
       "         0.        , -0.37796447, -0.37796447, -0.37796447, -0.37796447,\n",
       "         2.64575131, -0.37796447,  0.        ],\n",
       "       [ 0.77459667, -0.57735027, -0.37796447,  0.        , -0.37796447,\n",
       "        -0.37796447, -0.37796447, -0.37796447, -0.37796447,  2.64575131,\n",
       "        -0.37796447, -0.37796447,  0.        ,  2.64575131, -0.37796447,\n",
       "         0.        , -0.37796447, -0.37796447, -0.37796447, -0.37796447,\n",
       "        -0.37796447, -0.37796447,  0.        ],\n",
       "       [-1.29099445,  1.73205081, -0.37796447,  0.        , -0.37796447,\n",
       "        -0.37796447, -0.37796447, -0.37796447,  2.64575131, -0.37796447,\n",
       "        -0.37796447, -0.37796447,  0.        , -0.37796447,  2.64575131,\n",
       "         0.        , -0.37796447, -0.37796447, -0.37796447, -0.37796447,\n",
       "        -0.37796447, -0.37796447,  0.        ],\n",
       "       [ 0.77459667, -0.57735027, -0.37796447,  0.        , -0.37796447,\n",
       "        -0.37796447, -0.37796447, -0.37796447, -0.37796447, -0.37796447,\n",
       "        -0.37796447,  2.64575131,  0.        , -0.37796447, -0.37796447,\n",
       "         0.        , -0.37796447, -0.37796447, -0.37796447, -0.37796447,\n",
       "        -0.37796447,  2.64575131,  0.        ],\n",
       "       [ 0.77459667, -0.57735027, -0.37796447,  0.        , -0.37796447,\n",
       "        -0.37796447, -0.37796447, -0.37796447, -0.37796447, -0.37796447,\n",
       "         2.64575131, -0.37796447,  0.        , -0.37796447, -0.37796447,\n",
       "         0.        , -0.37796447,  2.64575131, -0.37796447, -0.37796447,\n",
       "        -0.37796447, -0.37796447,  0.        ],\n",
       "       [-1.29099445, -0.57735027,  2.64575131,  0.        , -0.37796447,\n",
       "        -0.37796447,  2.64575131, -0.37796447, -0.37796447, -0.37796447,\n",
       "        -0.37796447, -0.37796447,  0.        , -0.37796447, -0.37796447,\n",
       "         0.        , -0.37796447, -0.37796447, -0.37796447,  2.64575131,\n",
       "        -0.37796447, -0.37796447,  0.        ],\n",
       "       [ 0.77459667, -0.57735027, -0.37796447,  0.        ,  2.64575131,\n",
       "        -0.37796447, -0.37796447, -0.37796447, -0.37796447, -0.37796447,\n",
       "        -0.37796447, -0.37796447,  0.        , -0.37796447, -0.37796447,\n",
       "         0.        ,  2.64575131, -0.37796447, -0.37796447, -0.37796447,\n",
       "        -0.37796447, -0.37796447,  0.        ]])"
      ]
     },
     "execution_count": 35,
     "metadata": {},
     "output_type": "execute_result"
    }
   ],
   "source": [
    "x_scaled"
   ]
  },
  {
   "cell_type": "code",
   "execution_count": 36,
   "id": "7bdd70ac",
   "metadata": {},
   "outputs": [
    {
     "data": {
      "text/plain": [
       "array([ 2.77555756e-17, -2.77555756e-17, -4.16333634e-17,  0.00000000e+00,\n",
       "       -5.55111512e-17, -6.93889390e-17, -4.16333634e-17, -6.93889390e-17,\n",
       "       -1.38777878e-17, -1.38777878e-17, -2.77555756e-17, -1.38777878e-17,\n",
       "        0.00000000e+00, -1.38777878e-17, -1.38777878e-17,  0.00000000e+00,\n",
       "       -5.55111512e-17, -2.77555756e-17, -6.93889390e-17, -4.16333634e-17,\n",
       "       -6.93889390e-17, -1.38777878e-17,  0.00000000e+00])"
      ]
     },
     "execution_count": 36,
     "metadata": {},
     "output_type": "execute_result"
    }
   ],
   "source": [
    "x_scaled.mean(axis=0)"
   ]
  },
  {
   "cell_type": "code",
   "execution_count": 37,
   "id": "a62057c2",
   "metadata": {},
   "outputs": [
    {
     "data": {
      "text/plain": [
       "array([1., 1., 1., 0., 1., 1., 1., 1., 1., 1., 1., 1., 0., 1., 1., 0., 1.,\n",
       "       1., 1., 1., 1., 1., 0.])"
      ]
     },
     "execution_count": 37,
     "metadata": {},
     "output_type": "execute_result"
    }
   ],
   "source": [
    "x_scaled.std(axis=0)"
   ]
  },
  {
   "cell_type": "code",
   "execution_count": 38,
   "id": "e67a2938",
   "metadata": {},
   "outputs": [],
   "source": [
    "from sklearn.datasets import make_classification\n",
    "from sklearn.linear_model import LogisticRegression\n",
    "from sklearn.model_selection import train_test_split\n",
    "from sklearn.pipeline import make_pipeline\n",
    "from sklearn.preprocessing import StandardScaler\n",
    "from sklearn.pipeline import Pipeline"
   ]
  },
  {
   "cell_type": "code",
   "execution_count": 41,
   "id": "68c4ac79",
   "metadata": {},
   "outputs": [
    {
     "data": {
      "text/plain": [
       "Pipeline(steps=[('standardscaler', StandardScaler()),\n",
       "                ('logisticregression', LogisticRegression())])"
      ]
     },
     "execution_count": 41,
     "metadata": {},
     "output_type": "execute_result"
    }
   ],
   "source": [
    "x, y = make_classification(random_state=42)\n",
    "x_train, x_test, y_train, y_test= train_test_split(x, y, random_state=42)\n",
    "pipe = make_pipeline(StandardScaler(), LogisticRegression())\n",
    "pipe.fit(x_train, y_train)\n",
    "Pipeline(steps=[('standardscaler', StandardScaler()),\n",
    "                ('logisticregression',LogisticRegression())])"
   ]
  },
  {
   "cell_type": "code",
   "execution_count": 42,
   "id": "a1b76d6a",
   "metadata": {},
   "outputs": [
    {
     "data": {
      "text/plain": [
       "0.96"
      ]
     },
     "execution_count": 42,
     "metadata": {},
     "output_type": "execute_result"
    }
   ],
   "source": [
    "pipe.score(x_test, y_test)"
   ]
  },
  {
   "cell_type": "code",
   "execution_count": null,
   "id": "bd5ad16d",
   "metadata": {},
   "outputs": [],
   "source": []
  }
 ],
 "metadata": {
  "kernelspec": {
   "display_name": "Python 3",
   "language": "python",
   "name": "python3"
  },
  "language_info": {
   "codemirror_mode": {
    "name": "ipython",
    "version": 3
   },
   "file_extension": ".py",
   "mimetype": "text/x-python",
   "name": "python",
   "nbconvert_exporter": "python",
   "pygments_lexer": "ipython3",
   "version": "3.8.8"
  }
 },
 "nbformat": 4,
 "nbformat_minor": 5
}
