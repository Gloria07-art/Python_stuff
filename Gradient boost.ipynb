{
 "cells": [
  {
   "cell_type": "code",
   "execution_count": 1,
   "id": "c3d10867",
   "metadata": {},
   "outputs": [],
   "source": [
    "import pandas as pd\n",
    "from sklearn.tree import DecisionTreeClassifier\n",
    "from sklearn.ensemble import RandomForestClassifier, GradientBoostingClassifier\n",
    "from sklearn.model_selection import train_test_split\n",
    "from sklearn.metrics import precision_recall_fscore_support, confusion_matrix"
   ]
  },
  {
   "cell_type": "code",
   "execution_count": 6,
   "id": "5f3e3dcc",
   "metadata": {},
   "outputs": [
    {
     "name": "stdout",
     "output_type": "stream",
     "text": [
      "(178, 14)\n",
      "   Alcohol  Malic_Acid   Ash  Ash_Alcanity  Magnesium  Total_Phenols  \\\n",
      "0    14.23        1.71  2.43          15.6        127           2.80   \n",
      "1    13.20        1.78  2.14          11.2        100           2.65   \n",
      "2    13.16        2.36  2.67          18.6        101           2.80   \n",
      "3    14.37        1.95  2.50          16.8        113           3.85   \n",
      "4    13.24        2.59  2.87          21.0        118           2.80   \n",
      "\n",
      "   Flavanoids  Nonflavanoid_Phenols  Proanthocyanins  Color_Intensity   Hue  \\\n",
      "0        3.06                  0.28             2.29             5.64  1.04   \n",
      "1        2.76                  0.26             1.28             4.38  1.05   \n",
      "2        3.24                  0.30             2.81             5.68  1.03   \n",
      "3        3.49                  0.24             2.18             7.80  0.86   \n",
      "4        2.69                  0.39             1.82             4.32  1.04   \n",
      "\n",
      "   OD280  Proline  Customer_Segment  \n",
      "0   3.92     1065                 1  \n",
      "1   3.40     1050                 1  \n",
      "2   3.17     1185                 1  \n",
      "3   3.45     1480                 1  \n",
      "4   2.93      735                 1  \n"
     ]
    }
   ],
   "source": [
    "wine_data = pd.read_csv(\"Wine.csv\")\n",
    "print(wine_data.shape)\n",
    "print(wine_data.head())"
   ]
  },
  {
   "cell_type": "code",
   "execution_count": 9,
   "id": "a1463b95",
   "metadata": {},
   "outputs": [],
   "source": [
    "X = wine_data.iloc[:, 0:13].values\n",
    "y = wine_data.iloc[:, 13].values"
   ]
  },
  {
   "cell_type": "code",
   "execution_count": 10,
   "id": "d6521068",
   "metadata": {},
   "outputs": [],
   "source": [
    "from sklearn.model_selection import train_test_split\n",
    "train_X, val_X, train_y, val_y = train_test_split(X, y, test_size=0.20, random_state=1)"
   ]
  },
  {
   "cell_type": "code",
   "execution_count": 13,
   "id": "94b97fa5",
   "metadata": {},
   "outputs": [
    {
     "name": "stdout",
     "output_type": "stream",
     "text": [
      "{1: 0.055801641609933644, 2: 0.07218763066662683, 3: 0.06558856864770253}\n",
      "Best is :  1\n"
     ]
    }
   ],
   "source": [
    "from sklearn.ensemble import RandomForestRegressor\n",
    "from sklearn.metrics import mean_absolute_error\n",
    "from xgboost import XGBRegressor\n",
    "import numpy as np\n",
    "\n",
    "def get_mae(depth, train_X, train_y, val_X, val_y):\n",
    "    XGB_model = XGBRegressor(max_depth=22, min_child_weight=depth,learning_rate=0.05, random_state=1)\n",
    "    XGB_model.fit(train_X, train_y, early_stopping_rounds=5, eval_set=[(train_X,train_y)],\n",
    "                  verbose=False)\n",
    "    redwine_preds = XGB_model.predict(val_X)\n",
    "    mea_error = mean_absolute_error(val_y, redwine_preds)\n",
    "    return mea_error\n",
    "\n",
    "lst_max_depth = np.arange(1,4)\n",
    "\n",
    "scores_XGBOOST = {depth: get_mae(depth, train_X, train_y, val_X, val_y)\n",
    " for depth in lst_max_depth}\n",
    "\n",
    "print(scores_XGBOOST)\n",
    "best_tree_size = min(scores_XGBOOST, key=scores_XGBOOST.get)\n",
    "print(\"Best is : \", best_tree_size)"
   ]
  },
  {
   "cell_type": "code",
   "execution_count": 14,
   "id": "a477986e",
   "metadata": {},
   "outputs": [],
   "source": [
    "lst_max_depth = np.arange(14,30,2)"
   ]
  },
  {
   "cell_type": "code",
   "execution_count": 15,
   "id": "266e28cd",
   "metadata": {},
   "outputs": [
    {
     "name": "stdout",
     "output_type": "stream",
     "text": [
      "Best n_estimators with a simple RAndomForestRegressor: \n",
      " {100: 0.08222222222222222, 150: 0.08222222222222222, 200: 0.08222222222222222, 250: 0.08222222222222222, 300: 0.08222222222222222}\n",
      "100\n",
      "The minimum mean absolut error we obtain is :  0.08222222222222222\n"
     ]
    }
   ],
   "source": [
    "from sklearn.ensemble import RandomForestRegressor\n",
    "from sklearn.metrics import mean_absolute_error\n",
    "\n",
    "def get_mae(max_leaf_nodes, train_X, train_y, val_X, val_y):\n",
    "    forest_model = RandomForestRegressor(max_leaf_nodes=max_leaf_nodes, random_state=1)\n",
    "    forest_model.fit(train_X, train_y)\n",
    "    redwine_preds = forest_model.predict(val_X)\n",
    "    mea_error = mean_absolute_error(val_y, redwine_preds)\n",
    "    return mea_error\n",
    "\n",
    "lst_max_leaf = np.arange(100,350,50)\n",
    "scores = {max_leaf_nodes: get_mae(max_leaf_nodes, train_X, train_y, val_X, val_y)\n",
    "          for max_leaf_nodes in lst_max_leaf}\n",
    "\n",
    "print(\"Best n_estimators with a simple RAndomForestRegressor: \\n\", scores)\n",
    "best_tree_size = min(scores, key=scores.get)\n",
    "print(best_tree_size)\n",
    "\n",
    "min_mea = min(scores.values())\n",
    "print(\"The minimum mean absolut error we obtain is : \", min_mea)"
   ]
  },
  {
   "cell_type": "code",
   "execution_count": null,
   "id": "db0adf77",
   "metadata": {},
   "outputs": [],
   "source": []
  }
 ],
 "metadata": {
  "kernelspec": {
   "display_name": "Python 3",
   "language": "python",
   "name": "python3"
  },
  "language_info": {
   "codemirror_mode": {
    "name": "ipython",
    "version": 3
   },
   "file_extension": ".py",
   "mimetype": "text/x-python",
   "name": "python",
   "nbconvert_exporter": "python",
   "pygments_lexer": "ipython3",
   "version": "3.8.8"
  }
 },
 "nbformat": 4,
 "nbformat_minor": 5
}
